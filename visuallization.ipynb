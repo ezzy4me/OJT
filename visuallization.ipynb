{
 "cells": [
  {
   "cell_type": "code",
   "execution_count": null,
   "metadata": {},
   "outputs": [],
   "source": [
    "import kagglehub\n",
    "\n",
    "# Set the target directory\n",
    "target_path = \"/Users/songsangmin/Documents/GitHub/OJT\"\n",
    "path = kagglehub.dataset_download(\"vivekshrivastavaiips/cloud-infrastructure-dataset\", target_dir=target_path)\n",
    "\n",
    "print(\"Dataset downloaded to:\", path)\n"
   ]
  }
 ],
 "metadata": {
  "language_info": {
   "name": "python"
  }
 },
 "nbformat": 4,
 "nbformat_minor": 2
}
